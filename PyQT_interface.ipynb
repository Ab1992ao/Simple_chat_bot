{
 "cells": [
  {
   "cell_type": "code",
   "execution_count": 1,
   "metadata": {},
   "outputs": [
    {
     "name": "stderr",
     "output_type": "stream",
     "text": [
      "C:\\Users\\AlexConda\\Anaconda3\\lib\\site-packages\\gensim\\utils.py:1197: UserWarning: detected Windows; aliasing chunkize to chunkize_serial\n",
      "  warnings.warn(\"detected Windows; aliasing chunkize to chunkize_serial\")\n"
     ]
    }
   ],
   "source": [
    "import random\n",
    "import string\n",
    "import sys\n",
    "from PyQt5.QtGui import *\n",
    "from PyQt5.QtCore import *\n",
    "from PyQt5.QtWidgets import *\n",
    "import gui\n",
    "\n",
    "import pickle\n",
    "from Sentiment import sentiment_model\n",
    "from engine3 import ENGINE_3\n",
    "\n",
    "engine = ENGINE_3()\n",
    "class Example(QMainWindow, gui.Ui_MainWindow):\n",
    "    def __init__(self):\n",
    "        super().__init__()\n",
    "        self.setupUi(self)\n",
    "        self.pushButton.clicked.connect(self.buttonClicked)\n",
    "        self.pushButton_2.clicked.connect(self.buttonClickedExt)\n",
    "        self.textEdit.append('ОПЕРАТОР: Здравствуйте, я Ваш персональный консультант. Чем могу Вам помочь?')\n",
    "        \n",
    "    def generate_pins(self, size=6, chars=string.digits):\n",
    "        return ''.join(random.choice(chars) for x in range(size))\n",
    "    \n",
    "    def buttonClicked(self):\n",
    "        self.textEdit.text=[]\n",
    "        usr_msg=self.lineEdit.text()\n",
    "        self.textEdit.append('ПОЛЬЗОВАТЕЛЬ: '+usr_msg+'\\n'+'ОПЕРАТОР: '+engine.get_top(str.lower(usr_msg))[0]+'\\n -----------')\n",
    "        \n",
    "    def buttonClickedExt(self):\n",
    "        self.close()\n",
    "        \n",
    "if __name__ == '__main__':\n",
    "    app = QApplication(sys.argv)\n",
    "    form = Example()\n",
    "    form.show()\n",
    "    app.exec()"
   ]
  },
  {
   "cell_type": "code",
   "execution_count": null,
   "metadata": {},
   "outputs": [],
   "source": []
  }
 ],
 "metadata": {
  "kernelspec": {
   "display_name": "Python 3",
   "language": "python",
   "name": "python3"
  },
  "language_info": {
   "codemirror_mode": {
    "name": "ipython",
    "version": 3
   },
   "file_extension": ".py",
   "mimetype": "text/x-python",
   "name": "python",
   "nbconvert_exporter": "python",
   "pygments_lexer": "ipython3",
   "version": "3.6.4"
  }
 },
 "nbformat": 4,
 "nbformat_minor": 2
}
